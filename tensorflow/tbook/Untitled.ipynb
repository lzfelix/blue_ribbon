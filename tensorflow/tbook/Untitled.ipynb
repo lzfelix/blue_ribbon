{
 "cells": [
  {
   "cell_type": "code",
   "execution_count": 1,
   "metadata": {},
   "outputs": [],
   "source": [
    "import tensorflow as tf\n",
    "import matplotlib.pyplot as plt\n",
    "import numpy as np\n",
    "from sklearn.metrics import confusion_matrix"
   ]
  },
  {
   "cell_type": "code",
   "execution_count": 2,
   "metadata": {
    "scrolled": true
   },
   "outputs": [
    {
     "name": "stdout",
     "output_type": "stream",
     "text": [
      "Extracting data/MNIST/train-images-idx3-ubyte.gz\n",
      "Extracting data/MNIST/train-labels-idx1-ubyte.gz\n",
      "Extracting data/MNIST/t10k-images-idx3-ubyte.gz\n",
      "Extracting data/MNIST/t10k-labels-idx1-ubyte.gz\n",
      "Statistics:\n",
      "- Training set\t\t55000\n",
      "- Test set\t\t10000\n",
      "- Validation set\t5000\n"
     ]
    }
   ],
   "source": [
    "from tensorflow.examples.tutorials.mnist import input_data\n",
    "data = input_data.read_data_sets('data/MNIST', one_hot=True)\n",
    "\n",
    "print('Statistics:')\n",
    "print('- Training set\\t\\t{}'.format(len(data.train.labels)))\n",
    "print('- Test set\\t\\t{}'.format(len(data.test.labels)))\n",
    "print('- Validation set\\t{}'.format(len(data.validation.labels)))"
   ]
  },
  {
   "cell_type": "code",
   "execution_count": 3,
   "metadata": {},
   "outputs": [
    {
     "name": "stdout",
     "output_type": "stream",
     "text": [
      "[[ 0.  0.  0.  0.  0.  0.  0.  1.  0.  0.]\n",
      " [ 0.  0.  1.  0.  0.  0.  0.  0.  0.  0.]\n",
      " [ 0.  1.  0.  0.  0.  0.  0.  0.  0.  0.]\n",
      " [ 1.  0.  0.  0.  0.  0.  0.  0.  0.  0.]\n",
      " [ 0.  0.  0.  0.  1.  0.  0.  0.  0.  0.]]\n",
      "[7 2 1 0 4]\n"
     ]
    }
   ],
   "source": [
    "data.test.cls = np.array([label.argmax() for label in data.test.labels])\n",
    "print(data.test.labels[0:5, :])\n",
    "print(data.test.cls[0:5])"
   ]
  },
  {
   "cell_type": "code",
   "execution_count": 11,
   "metadata": {
    "collapsed": true
   },
   "outputs": [],
   "source": [
    "# Some constants for the image size\n",
    "img_size = 28\n",
    "img_shape = (img_size, img_size)\n",
    "img_size_flat = img_size * img_size\n",
    "\n",
    "# dataset constants\n",
    "num_classes = 10\n",
    "\n",
    "# model constants\n",
    "lmbda = 0.01\n",
    "neta = 0.5"
   ]
  },
  {
   "cell_type": "code",
   "execution_count": 5,
   "metadata": {},
   "outputs": [
    {
     "data": {
      "image/png": "[encoded data removed]",
      "text/plain": [
       "<matplotlib.figure.Figure at 0x11493d7b8>"
      ]
     },
     "metadata": {},
     "output_type": "display_data"
    }
   ],
   "source": [
    "def plot_images(images, cls_true, cls_pred=None):\n",
    "    \"\"\"Shameless p&c to display images\"\"\"\n",
    "    \n",
    "    fig, axes = plt.subplots(3, 3)\n",
    "    fig.subplots_adjust(hspace=0.3, wspace=0.3)\n",
    "    \n",
    "    for i, ax in enumerate(axes.flat):\n",
    "        ax.imshow(images[i].reshape(img_shape), cmap='binary')\n",
    "        \n",
    "        if cls_pred:\n",
    "            x_label = 'True: {} Pred: {}'.format(cls_true[i], cls_pred[i])\n",
    "        else:\n",
    "            x_label = 'True: {}'.format(cls_true[i])\n",
    "        \n",
    "        ax.set_xlabel(x_label)\n",
    "        ax.set_xticks([])\n",
    "        ax.set_yticks([])\n",
    "    plt.show()\n",
    "    \n",
    "plot_images(data.test.images[0:9], data.test.cls[:9])"
   ]
  },
  {
   "cell_type": "code",
   "execution_count": 39,
   "metadata": {},
   "outputs": [],
   "source": [
    "# now the fun begins\n",
    "\n",
    "# inputs\n",
    "x = tf.placeholder(tf.float32, [None, img_size_flat])\n",
    "y_true = tf.placeholder(tf.float32, [None, num_classes])\n",
    "y_true_cls = tf.placeholder(tf.int64, [None])\n",
    "\n",
    "# model variables. Change this for simmetry break\n",
    "# weights = tf.Variable(tf.zeros([img_size_flat, num_classes]))\n",
    "weights = tf.Variable(tf.random_uniform([img_size_flat, num_classes], minval=-1.0, maxval=1.0))\n",
    "biases = tf.Variable(tf.zeros([num_classes]))\n",
    "\n",
    "# the model -- Logistic regression\n",
    "logits = tf.matmul(x, weights) + biases\n",
    "y_pred = tf.nn.softmax(logits)\n",
    "y_pred_cls = tf.arg_max(y_pred, dimension=1)\n",
    "\n",
    "# cost function part\n",
    "cross_entropy = tf.nn.softmax_cross_entropy_with_logits(logits=logits, labels=y_true)\n",
    "cost = tf.reduce_mean(cross_entropy) + tf.nn.l2_loss(weights) * lmbda\n",
    "\n",
    "# finally, optimizing\n",
    "optimizer = tf.train.GradientDescentOptimizer(learning_rate=neta).minimize(cost)\n",
    "\n",
    "# measuring performance to monitor model convergence\n",
    "correct_prediction = tf.equal(y_pred_cls, y_true_cls)\n",
    "accuracy = tf.reduce_mean(tf.cast(correct_prediction, tf.float32))"
   ]
  },
  {
   "cell_type": "code",
   "execution_count": 51,
   "metadata": {
    "collapsed": true
   },
   "outputs": [],
   "source": [
    "# Running the model\n",
    "session = tf.Session()\n",
    "session.run(tf.global_variables_initializer())\n",
    "\n",
    "# constants go in here\n",
    "batch_size = 100\n",
    "def optimize(num_iterations):\n",
    "    for i in range(num_iterations):\n",
    "        x_batch, y_true_batch = data.train.next_batch(batch_size)\n",
    "        session.run(optimizer, {\n",
    "            x: x_batch,\n",
    "            y_true: y_true_batch\n",
    "        })\n",
    "        \n",
    "def print_accuracy():\n",
    "    acc = session.run(accuracy, {\n",
    "        x: data.test.images,\n",
    "        y_true: data.test.labels,\n",
    "        y_true_cls: data.test.cls\n",
    "    })\n",
    "    print('Acc on test-set: {}'.format(acc))\n",
    "    \n",
    "def print_confusion_matrix():\n",
    "    # Get the true classifications for the test-set.\n",
    "    cls_true = data.test.cls\n",
    "    \n",
    "    # Get the predicted classifications for the test-set.\n",
    "    cls_pred = session.run(y_pred_cls, feed_dict={\n",
    "                    x: data.test.images,\n",
    "                    y_true: data.test.labels,\n",
    "                    y_true_cls: data.test.cls})\n",
    "\n",
    "    # Get the confusion matrix using sklearn.\n",
    "    cm = confusion_matrix(y_true=cls_true,\n",
    "                          y_pred=cls_pred)\n",
    "\n",
    "    # Print the confusion matrix as text.\n",
    "    print(cm)\n",
    "\n",
    "    # Plot the confusion matrix as an image.\n",
    "    plt.imshow(cm, interpolation='nearest', cmap=plt.cm.viridis)\n",
    "\n",
    "    # Make various adjustments to the plot.\n",
    "    plt.tight_layout()\n",
    "    plt.colorbar()\n",
    "    tick_marks = np.arange(num_classes)\n",
    "    plt.xticks(tick_marks, range(num_classes))\n",
    "    plt.yticks(tick_marks, range(num_classes))\n",
    "    plt.xlabel('Predicted')\n",
    "    plt.ylabel('True')"
   ]
  },
  {
   "cell_type": "code",
   "execution_count": 8,
   "metadata": {},
   "outputs": [
    {
     "name": "stdout",
     "output_type": "stream",
     "text": [
      "Acc on test-set: 0.09799999743700027\n",
      "Acc on test-set: 0.35659998655319214\n",
      "Acc on test-set: 0.7785000205039978\n",
      "Acc on test-set: 0.9154999852180481\n"
     ]
    }
   ],
   "source": [
    "# initial performance\n",
    "print_accuracy()\n",
    "\n",
    "# after 1 loop\n",
    "optimize(num_iterations=1)\n",
    "print_accuracy()\n",
    "\n",
    "# 9 more to go\n",
    "optimize(num_iterations=9)\n",
    "print_accuracy()\n",
    "\n",
    "# 990 more to go\n",
    "optimize(num_iterations=990)\n",
    "print_accuracy()"
   ]
  },
  {
   "cell_type": "code",
   "execution_count": 53,
   "metadata": {},
   "outputs": [
    {
     "name": "stdout",
     "output_type": "stream",
     "text": [
      "[[ 955    0    4    4    0    8    4    1    3    1]\n",
      " [   0 1093    5    4    0    2    4    1   26    0]\n",
      " [  21   10  876   14   25    4   18   16   41    7]\n",
      " [  10    1   19  854    6   51    5   16   34   14]\n",
      " [   5    3    1    1  913    1    9    2   10   37]\n",
      " [  18    5    9   47   23  696   12    7   62   13]\n",
      " [  32    3    5    3   31   23  850    2    8    1]\n",
      " [   5   17   38    4   17    2    0  873    8   64]\n",
      " [  15    7    8   14   19   29   16    9  834   23]\n",
      " [  16    8    2   11   81    5    1   14   14  857]]\n"
     ]
    },
    {
     "data": {
      "image/png": "[encoded data removed]",
      "text/plain": [
       "<matplotlib.figure.Figure at 0x121e72e80>"
      ]
     },
     "metadata": {},
     "output_type": "display_data"
    }
   ],
   "source": [
    "print_confusion_matrix()\n",
    "plt.show()"
   ]
  },
  {
   "cell_type": "code",
   "execution_count": 50,
   "metadata": {
    "collapsed": true
   },
   "outputs": [],
   "source": [
    "session.close()\n",
    "session = tf.Session()"
   ]
  },
  {
   "cell_type": "code",
   "execution_count": 52,
   "metadata": {},
   "outputs": [
    {
     "name": "stdout",
     "output_type": "stream",
     "text": [
      "Acc on test-set: 0.8801000118255615\n"
     ]
    }
   ],
   "source": [
    "# some experimentation\n",
    "session.run(tf.global_variables_initializer())\n",
    "optimize(num_iterations=200)\n",
    "print_accuracy()"
   ]
  }
 ],
 "metadata": {
  "anaconda-cloud": {},
  "kernelspec": {
   "display_name": "Python [conda env:tf]",
   "language": "python",
   "name": "conda-env-tf-py"
  },
  "language_info": {
   "codemirror_mode": {
    "name": "ipython",
    "version": 3
   },
   "file_extension": ".py",
   "mimetype": "text/x-python",
   "name": "python",
   "nbconvert_exporter": "python",
   "pygments_lexer": "ipython3",
   "version": "3.5.3"
  }
 },
 "nbformat": 4,
 "nbformat_minor": 2
}
