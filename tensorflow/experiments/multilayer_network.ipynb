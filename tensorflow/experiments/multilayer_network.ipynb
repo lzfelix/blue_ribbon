{
 "cells": [
  {
   "cell_type": "code",
   "execution_count": 22,
   "metadata": {
    "collapsed": true
   },
   "outputs": [],
   "source": [
    "# my implementation of the Tensorflow example @\n",
    "# https://github.com/tensorflow/tensorflow/blob/r1.3/tensorflow/examples/tutorials/mnist/mnist.py\n",
    "\n",
    "from math import sqrt\n",
    "\n",
    "import tensorflow as tf\n",
    "from tensorflow.examples.tutorials.mnist import input_data, mnist\n",
    "from matplotlib import pyplot as plt\n",
    "import numpy as np"
   ]
  },
  {
   "cell_type": "code",
   "execution_count": 32,
   "metadata": {},
   "outputs": [
    {
     "name": "stdout",
     "output_type": "stream",
     "text": [
      "Extracting ../data/train-images-idx3-ubyte.gz\n",
      "Extracting ../data/train-labels-idx1-ubyte.gz\n",
      "Extracting ../data/t10k-images-idx3-ubyte.gz\n",
      "Extracting ../data/t10k-labels-idx1-ubyte.gz\n"
     ]
    },
    {
     "data": {
      "image/png": "[encoded data removed]",
      "text/plain": [
       "<matplotlib.figure.Figure at 0x119d84a58>"
      ]
     },
     "metadata": {},
     "output_type": "display_data"
    }
   ],
   "source": [
    "def plot_images(images, labels, predicted=None, amount_samples=9):\n",
    "    side = int(sqrt(amount_samples))\n",
    "    if side ** 2 != amount_samples:\n",
    "        raise ValueError('amount_samples must be a perfect-square number.')\n",
    "    \n",
    "    fig, axes = plt.subplots(side, side)\n",
    "    fig.subplots_adjust(hspace=0.3, wspace=0.7)\n",
    "    fig.set_size_inches((side * 1.5, side * 1.5))\n",
    "\n",
    "    for i, ax in enumerate(axes.flat):\n",
    "        ax.imshow(images[i].reshape(28, 28), cmap='binary')\n",
    "\n",
    "        text = 'Class: ' + str(labels[i])\n",
    "        if np.any(predicted):\n",
    "            text += '\\n Predicted: {}'.format(predicted[i])\n",
    "            \n",
    "        ax.set_xlabel(text)\n",
    "        ax.set_xticks([])\n",
    "        ax.set_yticks([])\n",
    "\n",
    "    plt.show()\n",
    "\n",
    "\n",
    "# 1. handling the logging folder\n",
    "if tf.gfile.Exists('./logs/'):\n",
    "#     tf.gfile.DeleteRecursively('./logs/')\n",
    "    pass\n",
    "else:\n",
    "    tf.gfile.MakeDirs('./logs')\n",
    "\n",
    "# 2. fetching the dataset    \n",
    "dataset = input_data.read_data_sets(train_dir='../data/')\n",
    "\n",
    "# 3. taking a look on the data\n",
    "amount_samples=9\n",
    "plot_images(dataset.train.images[:amount_samples], dataset.train.labels[:amount_samples],\n",
    "            amount_samples=amount_samples)"
   ]
  },
  {
   "cell_type": "code",
   "execution_count": 24,
   "metadata": {
    "collapsed": true
   },
   "outputs": [],
   "source": [
    "# 4. Encapsulating the model within a class\n",
    "class Model:\n",
    "    def __init__(self, batch_size=100, neta=0.01, beta=0, layer1_size=128, layer2_size=32):\n",
    "        self.batch_size = batch_size\n",
    "        self.neta = neta\n",
    "        self.beta = beta\n",
    "        \n",
    "        self.input_size = mnist.IMAGE_PIXELS\n",
    "        self.num_classes = 10\n",
    "        \n",
    "        self.input_placeholder = tf.placeholder(tf.float32, shape=(batch_size,\n",
    "                                                                   self.input_size),\n",
    "                                               name='input_samples')\n",
    "\n",
    "        # it's not 1-hot vector\n",
    "        self.label_placeholder = tf.placeholder(tf.int32, shape=(batch_size), name='input_labels')\n",
    "\n",
    "        self.build_network(layer1_size, layer2_size)\n",
    "        \n",
    "    def get_input_placeholders(self):\n",
    "        \"\"\"Returns the interface to the TF model.\"\"\"\n",
    "        return self.input_placeholder, self.label_placeholder\n",
    "    \n",
    "    def build_network(self, amount_hidden1, amount_hidden2):\n",
    "        \"\"\"The architecture is input > ReLU > ReLU > logits. Returns the logits to be\n",
    "        softmaxed.\"\"\"\n",
    "        \n",
    "        with tf.name_scope('hidden_1'):\n",
    "            self.w1 = tf.Variable(tf.truncated_normal([self.input_size, amount_hidden1],\n",
    "                                      stddev=1.0/sqrt(self.input_size)))\n",
    "            self.b1 = tf.Variable(tf.zeros([amount_hidden1]))\n",
    "\n",
    "            hidden1 = tf.nn.relu(tf.matmul(self.input_placeholder, self.w1) + self.b1)\n",
    "            \n",
    "        with tf.name_scope('hidden_2'):\n",
    "            self.w2 = tf.Variable(tf.truncated_normal([amount_hidden1, amount_hidden2],\n",
    "                          stddev=1.0/sqrt(amount_hidden1)))\n",
    "            self.b2 = tf.Variable(tf.zeros([amount_hidden2]))\n",
    "            \n",
    "            hidden2 = tf.nn.relu(tf.matmul(hidden1, self.w2) + self.b2)\n",
    "            \n",
    "        with tf.name_scope('softmax'):\n",
    "            self.w3 = tf.Variable(tf.truncated_normal([amount_hidden2, self.num_classes],\n",
    "                                                     stddev=1.0/sqrt(amount_hidden2)))\n",
    "            self.b3 = tf.Variable(tf.zeros([self.num_classes]))\n",
    "\n",
    "            self.logits = tf.matmul(hidden2, self.w3) + self.b3\n",
    "            \n",
    "        return self.logits\n",
    "    \n",
    "    def build_loss(self):\n",
    "        \"\"\"Builds the part responsible to calculate the loss function. This can be used to monitor convergence.\"\"\"\n",
    "        \n",
    "        labels = tf.to_int64(self.label_placeholder)\n",
    "        cross_entropy = tf.nn.sparse_softmax_cross_entropy_with_logits(\n",
    "            labels=self.label_placeholder, logits=self.logits, name='xentropy'\n",
    "        )\n",
    "        \n",
    "        self.mean_xentropy = tf.reduce_mean(cross_entropy, name='xentropy_mean')\n",
    "        return self.mean_xentropy\n",
    "    \n",
    "    def train(self):\n",
    "        \"\"\"The TF trainning op.\"\"\"\n",
    "        \n",
    "        tf.summary.scalar('loss', self.mean_xentropy)\n",
    "        self.optimizer = tf.train.GradientDescentOptimizer(self.neta)\n",
    "        \n",
    "        global_step = tf.Variable(0, name='global_step', trainable=False)\n",
    "        self.train_op = self.optimizer.minimize(self.mean_xentropy, global_step=global_step)\n",
    "        return self.train_op\n",
    "    \n",
    "    def evaluate(self):\n",
    "        \"\"\"Evaluates model's prediction.\"\"\"\n",
    "        \n",
    "        # checks if the desired class in the top prediction. Removes the need for the softmax as this function\n",
    "        # simply transforms scores into probabilities.\n",
    "        correct = tf.nn.in_top_k(self.logits, self.label_placeholder, 1)\n",
    "        return tf.reduce_sum(tf.cast(correct, tf.int32))\n",
    "    \n",
    "    def predict(self):\n",
    "        \"\"\"Calculaes the class probabilities for each class.\"\"\"\n",
    "        \n",
    "        # Code repetition, argh!\n",
    "        images_to_predict = tf.placeholder(tf.float32, shape=[None, self.input_size], name='pred_in')\n",
    "        h1 = tf.nn.relu(tf.matmul(images_to_predict, self.w1) + self.b1)\n",
    "        h2 = tf.nn.relu(tf.matmul(h1, self.w2) + self.b2)\n",
    "        scores = tf.nn.relu(tf.matmul(h2, self.w3) + self.b3)\n",
    "        \n",
    "        return images_to_predict, tf.nn.softmax(scores, name='pred_out')"
   ]
  },
  {
   "cell_type": "code",
   "execution_count": 34,
   "metadata": {},
   "outputs": [
    {
     "name": "stdout",
     "output_type": "stream",
     "text": [
      "Step 000\t loss = 2.31\n",
      "Step 100\t loss = 0.21\n",
      "Evaluating on 5000 examples :: Precision: 0.93\n",
      "Step 200\t loss = 0.25\n",
      "Step 300\t loss = 0.17\n",
      "Evaluating on 5000 examples :: Precision: 0.94\n",
      "Step 400\t loss = 0.19\n",
      "Step 500\t loss = 0.27\n",
      "Evaluating on 5000 examples :: Precision: 0.96\n",
      "Step 600\t loss = 0.16\n",
      "Step 700\t loss = 0.13\n",
      "Evaluating on 5000 examples :: Precision: 0.97\n",
      "Step 800\t loss = 0.12\n"
     ]
    }
   ],
   "source": [
    "batch_size = 100\n",
    "steps = 801\n",
    "checkpoint_file = './logs/cpoint.ckpt'\n",
    "\n",
    "def do_eval(s, eval_correct, images_placeholder, labels_placeholder, dataset):\n",
    "    \"\"\"Evaluates the model on validation set.\"\"\"\n",
    "    steps_per_epoch = dataset.num_examples // batch_size\n",
    "    num_examples = steps_per_epoch * batch_size\n",
    "    \n",
    "    true_count = 0\n",
    "    for step in range(steps_per_epoch):\n",
    "        dt_images, dt_labels = dataset.next_batch(batch_size)\n",
    "        feed_dict = {\n",
    "            images_placeholder: dt_images,\n",
    "            labels_placeholder: dt_labels\n",
    "        }\n",
    "        \n",
    "        true_count += s.run(eval_correct, feed_dict)\n",
    "    \n",
    "    precision = float(true_count) / num_examples\n",
    "    print('Evaluating on %d examples :: Precision: %.2f' % (num_examples, precision))\n",
    "\n",
    "# 3. build the model\n",
    "tf.reset_default_graph()    # this is to avoid problems when re-running Jupyter cells\n",
    "\n",
    "model = Model(neta=0.5, layer1_size=128, layer2_size=32)\n",
    "images_input, labels_input = model.get_input_placeholders()\n",
    "\n",
    "# loss is used to monitor, train trains and eval to evaluate how to model is doing\n",
    "loss = model.build_loss()\n",
    "train_op = model.train()\n",
    "eval_correct = model.evaluate()\n",
    "\n",
    "s = tf.Session()\n",
    "s.run(tf.global_variables_initializer())\n",
    "\n",
    "# saving the model\n",
    "saver = tf.train.Saver()\n",
    "    \n",
    "for step in range(steps):\n",
    "    dt_images, dt_labels = dataset.train.next_batch(batch_size)\n",
    "    feed_dict = {\n",
    "        images_input: dt_images,\n",
    "        labels_input: dt_labels\n",
    "    }\n",
    "\n",
    "    _, loss_value = s.run([train_op, loss], feed_dict=feed_dict)\n",
    "\n",
    "    # summaries at every 100 batches\n",
    "    if step % 100 == 0:\n",
    "        print('Step %.3d\\t loss = %.2f' %(step, loss_value))\n",
    "\n",
    "    # checking and evaluation from time to time\n",
    "    if (step+1) % 200 == 0 or step == steps:\n",
    "        do_eval(s, eval_correct, images_input, labels_input, dataset.validation)\n",
    "        saver.save(s, checkpoint_file, global_step=step+1)    # save the model"
   ]
  },
  {
   "cell_type": "code",
   "execution_count": 35,
   "metadata": {},
   "outputs": [
    {
     "data": {
      "image/png": "[encoded data removed]",
      "text/plain": [
       "<matplotlib.figure.Figure at 0x1190ee240>"
      ]
     },
     "metadata": {},
     "output_type": "display_data"
    }
   ],
   "source": [
    "# The model is trained. Sample a few random examples to play with it\n",
    "\n",
    "def classify_random_samples(input_placeholder, prediction_op, amount_samples=9):\n",
    "    amount_test = len(dataset.test.images)\n",
    "    i = np.random.randint(low=0, high=amount_test, size=amount_samples)\n",
    "\n",
    "    probabilitites = s.run(prediction_op, {\n",
    "        input_placeholder: dataset.train.images[i]\n",
    "    })\n",
    "\n",
    "    predicted_classes = probabilitites.argmax(axis=1)\n",
    "    plot_images(dataset.train.images[i], dataset.train.labels[i], predicted_classes, amount_samples)\n",
    "\n",
    "image_input, class_probs = model.predict()\n",
    "classify_random_samples(image_input, class_probs)"
   ]
  },
  {
   "cell_type": "code",
   "execution_count": 36,
   "metadata": {},
   "outputs": [
    {
     "name": "stdout",
     "output_type": "stream",
     "text": [
      "INFO:tensorflow:Restoring parameters from ./logs/cpoint.ckpt-800\n"
     ]
    },
    {
     "data": {
      "image/png": "[encoded data removed]",
      "text/plain": [
       "<matplotlib.figure.Figure at 0x1191d9e80>"
      ]
     },
     "metadata": {},
     "output_type": "display_data"
    }
   ],
   "source": [
    "# Loading the stored model for futher predictions\n",
    "\n",
    "with tf.Session() as s:\n",
    "    saver = tf.train.import_meta_graph('./logs/cpoint.ckpt-800.meta')\n",
    "    saver.restore(s, tf.train.latest_checkpoint('./logs/'))\n",
    "\n",
    "    graph = tf.get_default_graph()\n",
    "    input_samples = graph.get_tensor_by_name('pred_in:0')\n",
    "    prediction_op   = graph.get_tensor_by_name('pred_out:0')\n",
    "\n",
    "    classify_random_samples(input_samples, prediction_op, amount_samples=16)"
   ]
  }
 ],
 "metadata": {
  "anaconda-cloud": {},
  "kernelspec": {
   "display_name": "Python [conda env:tf]",
   "language": "python",
   "name": "conda-env-tf-py"
  },
  "language_info": {
   "codemirror_mode": {
    "name": "ipython",
    "version": 3
   },
   "file_extension": ".py",
   "mimetype": "text/x-python",
   "name": "python",
   "nbconvert_exporter": "python",
   "pygments_lexer": "ipython3",
   "version": "3.5.3"
  }
 },
 "nbformat": 4,
 "nbformat_minor": 2
}
